{
 "cells": [
  {
   "cell_type": "code",
   "execution_count": 1,
   "id": "d1dcd48d",
   "metadata": {},
   "outputs": [],
   "source": [
    "import pandas as pd\n",
    "import numpy as np\n",
    "import matplotlib.pyplot as plt\n",
    "import seaborn as sns\n",
    "from pyspark.sql.functions import col, udf"
   ]
  },
  {
   "cell_type": "code",
   "execution_count": 2,
   "id": "2f60af0b",
   "metadata": {},
   "outputs": [
    {
     "name": "stdout",
     "output_type": "stream",
     "text": [
      "2022-12-18T09:53:21,910 WARN [Thread-4] org.apache.spark.sql.SparkSession - Using an existing Spark session; only runtime SQL configurations will take effect.\n"
     ]
    }
   ],
   "source": [
    "# Import SparkSession\n",
    "from pyspark.sql import SparkSession\n",
    "\n",
    "# Create SparkSession \n",
    "spark = SparkSession.builder \\\n",
    "      .master(\"local[1]\") \\\n",
    "      .appName(\"SparkByExamples.com\") \\\n",
    "      .getOrCreate() "
   ]
  },
  {
   "cell_type": "code",
   "execution_count": 3,
   "id": "a2347c3d",
   "metadata": {},
   "outputs": [],
   "source": [
    "daft_df = pd.read_csv(\"data/cleaned/daft_listing.csv\", index_col=[\"Unnamed: 0\"]\n",
    "    ).drop(columns=[\"Page\", \"New_build\"]\n",
    "    ).dropna(subset=[\"Property_type\"]\n",
    "    ).reset_index(drop=True).rename(\n",
    "    columns={\"m²\":\"Floor_area\"})"
   ]
  },
  {
   "cell_type": "code",
   "execution_count": 4,
   "id": "666debbd",
   "metadata": {},
   "outputs": [],
   "source": [
    "myhome_df = pd.read_csv(\"data/cleaned/myhome_listing.csv\", index_col=[\"Unnamed: 0\"]\n",
    "    ).drop(columns=[\"Page\", \"New_build\"]\n",
    "    ).dropna(subset=[\"Property_type\"]\n",
    "    ).reset_index(drop=True).rename(\n",
    "    columns={\"beds\":\"Bed\",\"baths\":\"Bath\", \"floor_area\":\"Floor_area\"})"
   ]
  },
  {
   "cell_type": "code",
   "execution_count": 5,
   "id": "ad89df9a",
   "metadata": {},
   "outputs": [
    {
     "data": {
      "text/html": [
       "<div>\n",
       "<style scoped>\n",
       "    .dataframe tbody tr th:only-of-type {\n",
       "        vertical-align: middle;\n",
       "    }\n",
       "\n",
       "    .dataframe tbody tr th {\n",
       "        vertical-align: top;\n",
       "    }\n",
       "\n",
       "    .dataframe thead th {\n",
       "        text-align: right;\n",
       "    }\n",
       "</style>\n",
       "<table border=\"1\" class=\"dataframe\">\n",
       "  <thead>\n",
       "    <tr style=\"text-align: right;\">\n",
       "      <th></th>\n",
       "      <th>Bed</th>\n",
       "      <th>Bath</th>\n",
       "      <th>Floor_area</th>\n",
       "      <th>Price</th>\n",
       "      <th>Address</th>\n",
       "      <th>Property_type</th>\n",
       "      <th>County</th>\n",
       "      <th>Province</th>\n",
       "    </tr>\n",
       "  </thead>\n",
       "  <tbody>\n",
       "    <tr>\n",
       "      <th>0</th>\n",
       "      <td>3.0</td>\n",
       "      <td>3.0</td>\n",
       "      <td>NaN</td>\n",
       "      <td>NaN</td>\n",
       "      <td>3 Bedroom Apartment - 55 Lad Lane, Dublin 2</td>\n",
       "      <td>Apartment</td>\n",
       "      <td>Dublin 2</td>\n",
       "      <td>Leinster</td>\n",
       "    </tr>\n",
       "    <tr>\n",
       "      <th>1</th>\n",
       "      <td>3.0</td>\n",
       "      <td>1.0</td>\n",
       "      <td>105.00</td>\n",
       "      <td>550000.0</td>\n",
       "      <td>38 The Avenue, Boden Park, Rathfarnham, Dubli...</td>\n",
       "      <td>Semi-Detached House</td>\n",
       "      <td>Dublin 14</td>\n",
       "      <td>Leinster</td>\n",
       "    </tr>\n",
       "    <tr>\n",
       "      <th>2</th>\n",
       "      <td>4.0</td>\n",
       "      <td>3.0</td>\n",
       "      <td>110.00</td>\n",
       "      <td>795000.0</td>\n",
       "      <td>130 Carysfort Park, Blackrock, County Dublin</td>\n",
       "      <td>Semi-Detached House</td>\n",
       "      <td>Dublin</td>\n",
       "      <td>Leinster</td>\n",
       "    </tr>\n",
       "    <tr>\n",
       "      <th>3</th>\n",
       "      <td>2.0</td>\n",
       "      <td>1.0</td>\n",
       "      <td>68.00</td>\n",
       "      <td>295000.0</td>\n",
       "      <td>5 Woodbrook Hall, Carpenterstown, Dublin 15</td>\n",
       "      <td>Apartment</td>\n",
       "      <td>Dublin 15</td>\n",
       "      <td>Leinster</td>\n",
       "    </tr>\n",
       "    <tr>\n",
       "      <th>4</th>\n",
       "      <td>4.0</td>\n",
       "      <td>2.0</td>\n",
       "      <td>170.07</td>\n",
       "      <td>895000.0</td>\n",
       "      <td>70 Kincora Grove, Clontarf, Dublin 3</td>\n",
       "      <td>Semi-Detached House</td>\n",
       "      <td>Dublin 3</td>\n",
       "      <td>Leinster</td>\n",
       "    </tr>\n",
       "    <tr>\n",
       "      <th>...</th>\n",
       "      <td>...</td>\n",
       "      <td>...</td>\n",
       "      <td>...</td>\n",
       "      <td>...</td>\n",
       "      <td>...</td>\n",
       "      <td>...</td>\n",
       "      <td>...</td>\n",
       "      <td>...</td>\n",
       "    </tr>\n",
       "    <tr>\n",
       "      <th>9420</th>\n",
       "      <td>5.0</td>\n",
       "      <td>5.0</td>\n",
       "      <td>200.00</td>\n",
       "      <td>365000.0</td>\n",
       "      <td>No. 1 Gleann Na Boirne, Bellharbour, Clare</td>\n",
       "      <td>Detached House</td>\n",
       "      <td>Clare</td>\n",
       "      <td>Munster</td>\n",
       "    </tr>\n",
       "    <tr>\n",
       "      <th>9421</th>\n",
       "      <td>3.0</td>\n",
       "      <td>1.0</td>\n",
       "      <td>107.00</td>\n",
       "      <td>419000.0</td>\n",
       "      <td>Knockdilly Cottage, Knockdilly, Kilmuckridge,...</td>\n",
       "      <td>Detached House</td>\n",
       "      <td>Wexford</td>\n",
       "      <td>Leinster</td>\n",
       "    </tr>\n",
       "    <tr>\n",
       "      <th>9422</th>\n",
       "      <td>4.0</td>\n",
       "      <td>3.0</td>\n",
       "      <td>248.51</td>\n",
       "      <td>435000.0</td>\n",
       "      <td>Dooneen, Carrigtwohill, Cork</td>\n",
       "      <td>Detached House</td>\n",
       "      <td>Cork</td>\n",
       "      <td>Munster</td>\n",
       "    </tr>\n",
       "    <tr>\n",
       "      <th>9423</th>\n",
       "      <td>2.0</td>\n",
       "      <td>3.0</td>\n",
       "      <td>75.00</td>\n",
       "      <td>197500.0</td>\n",
       "      <td>14 Blossom Court, Esker Hills, Portlaoise, Laois</td>\n",
       "      <td>Detached House</td>\n",
       "      <td>Laois</td>\n",
       "      <td>Leinster</td>\n",
       "    </tr>\n",
       "    <tr>\n",
       "      <th>9424</th>\n",
       "      <td>4.0</td>\n",
       "      <td>2.0</td>\n",
       "      <td>NaN</td>\n",
       "      <td>198000.0</td>\n",
       "      <td>57 Garbally Drive, Ballinasloe, Co. Galway</td>\n",
       "      <td>Semi-Detached House</td>\n",
       "      <td>Galway</td>\n",
       "      <td>Connaught</td>\n",
       "    </tr>\n",
       "  </tbody>\n",
       "</table>\n",
       "<p>9425 rows × 8 columns</p>\n",
       "</div>"
      ],
      "text/plain": [
       "      Bed  Bath  Floor_area     Price  \\\n",
       "0     3.0   3.0         NaN       NaN   \n",
       "1     3.0   1.0      105.00  550000.0   \n",
       "2     4.0   3.0      110.00  795000.0   \n",
       "3     2.0   1.0       68.00  295000.0   \n",
       "4     4.0   2.0      170.07  895000.0   \n",
       "...   ...   ...         ...       ...   \n",
       "9420  5.0   5.0      200.00  365000.0   \n",
       "9421  3.0   1.0      107.00  419000.0   \n",
       "9422  4.0   3.0      248.51  435000.0   \n",
       "9423  2.0   3.0       75.00  197500.0   \n",
       "9424  4.0   2.0         NaN  198000.0   \n",
       "\n",
       "                                                Address        Property_type  \\\n",
       "0           3 Bedroom Apartment - 55 Lad Lane, Dublin 2            Apartment   \n",
       "1      38 The Avenue, Boden Park, Rathfarnham, Dubli...  Semi-Detached House   \n",
       "2          130 Carysfort Park, Blackrock, County Dublin  Semi-Detached House   \n",
       "3           5 Woodbrook Hall, Carpenterstown, Dublin 15            Apartment   \n",
       "4                  70 Kincora Grove, Clontarf, Dublin 3  Semi-Detached House   \n",
       "...                                                 ...                  ...   \n",
       "9420         No. 1 Gleann Na Boirne, Bellharbour, Clare       Detached House   \n",
       "9421   Knockdilly Cottage, Knockdilly, Kilmuckridge,...       Detached House   \n",
       "9422                       Dooneen, Carrigtwohill, Cork       Detached House   \n",
       "9423   14 Blossom Court, Esker Hills, Portlaoise, Laois       Detached House   \n",
       "9424         57 Garbally Drive, Ballinasloe, Co. Galway  Semi-Detached House   \n",
       "\n",
       "         County   Province  \n",
       "0      Dublin 2   Leinster  \n",
       "1     Dublin 14   Leinster  \n",
       "2        Dublin   Leinster  \n",
       "3     Dublin 15   Leinster  \n",
       "4      Dublin 3   Leinster  \n",
       "...         ...        ...  \n",
       "9420      Clare    Munster  \n",
       "9421    Wexford   Leinster  \n",
       "9422       Cork    Munster  \n",
       "9423      Laois   Leinster  \n",
       "9424     Galway  Connaught  \n",
       "\n",
       "[9425 rows x 8 columns]"
      ]
     },
     "execution_count": 5,
     "metadata": {},
     "output_type": "execute_result"
    }
   ],
   "source": [
    "myhome_df"
   ]
  },
  {
   "cell_type": "code",
   "execution_count": 6,
   "id": "bc6d6035",
   "metadata": {
    "scrolled": false
   },
   "outputs": [
    {
     "name": "stderr",
     "output_type": "stream",
     "text": [
      "/tmp/ipykernel_727/866746965.py:1: FutureWarning: The frame.append method is deprecated and will be removed from pandas in a future version. Use pandas.concat instead.\n",
      "  df = daft_df.append(\n"
     ]
    }
   ],
   "source": [
    "df = daft_df.append(\n",
    "    myhome_df).reset_index(\n",
    "    drop=True).drop_duplicates(\n",
    "    subset=\"Address\").drop_duplicates(\n",
    "    subset=[\"Bed\",\"Bath\",\"Floor_area\",\"Price\",\"Property_type\",\"County\"]).reset_index(\n",
    "    drop=True)"
   ]
  },
  {
   "cell_type": "code",
   "execution_count": 7,
   "id": "a237130b",
   "metadata": {},
   "outputs": [
    {
     "name": "stderr",
     "output_type": "stream",
     "text": [
      "/home/lynchp/hadoop_dss/spark/python/pyspark/sql/pandas/conversion.py:474: FutureWarning: iteritems is deprecated and will be removed in a future version. Use .items instead.\n",
      "  for column, series in pdf.iteritems():\n",
      "/home/lynchp/hadoop_dss/spark/python/pyspark/sql/pandas/conversion.py:486: FutureWarning: iteritems is deprecated and will be removed in a future version. Use .items instead.\n",
      "  for column, series in pdf.iteritems():\n"
     ]
    }
   ],
   "source": [
    "sparkDF=spark.createDataFrame(df)"
   ]
  },
  {
   "cell_type": "code",
   "execution_count": 8,
   "id": "86d0b83b",
   "metadata": {},
   "outputs": [
    {
     "name": "stdout",
     "output_type": "stream",
     "text": [
      "root\n",
      " |-- Bed: double (nullable = true)\n",
      " |-- Bath: double (nullable = true)\n",
      " |-- Floor_area: double (nullable = true)\n",
      " |-- Price: double (nullable = true)\n",
      " |-- Address: string (nullable = true)\n",
      " |-- Property_type: string (nullable = true)\n",
      " |-- County: string (nullable = true)\n",
      " |-- Province: string (nullable = true)\n",
      "\n"
     ]
    }
   ],
   "source": [
    "sparkDF.printSchema()"
   ]
  },
  {
   "cell_type": "code",
   "execution_count": 9,
   "id": "f692b1d4",
   "metadata": {},
   "outputs": [
    {
     "name": "stderr",
     "output_type": "stream",
     "text": [
      "\r",
      "[Stage 0:>                                                          (0 + 1) / 1]\r"
     ]
    },
    {
     "name": "stdout",
     "output_type": "stream",
     "text": [
      "+---+----+------------------+---------+--------------------+--------------+---------+---------+\n",
      "|Bed|Bath|        Floor_area|    Price|             Address| Property_type|   County| Province|\n",
      "+---+----+------------------+---------+--------------------+--------------+---------+---------+\n",
      "|2.0| 1.0|              52.0| 295000.0|8 Parknasilla, Ve...|     Apartment|  Wicklow| Leinster|\n",
      "|3.0| 3.0|              93.0| 230000.0|7 Meadow Avenue, ...|        Semi-D|     Cork|  Munster|\n",
      "|4.0| 3.0|              86.0| 265000.0|5 Friar Street, C...|       Terrace|     Cork|  Munster|\n",
      "|3.0| 1.0|              82.0| 375000.0|12 Barrack Street...|End of Terrace|     Cork|  Munster|\n",
      "|5.0| 4.0|             186.0| 405000.0|3 The Garden, Whi...|        Semi-D|    Meath| Leinster|\n",
      "|6.0| 7.0|             763.0|3000000.0|7 Henrietta Stree...|       Terrace| Dublin 1| Leinster|\n",
      "|5.0| 5.0|             328.0| 795000.0|Zion House, Carnm...|      Detached|   Galway|Connaught|\n",
      "|5.0| 4.0|             232.0| 625000.0|3 The Fairways, M...|      Detached|     Cork|  Munster|\n",
      "|3.0| 2.0|             171.0| 230000.0|Derryart, Dunfana...|      Detached|  Donegal|   Ulster|\n",
      "|4.0| 3.0|             125.0| 295000.0|168 Palace Fields...|        Semi-D|   Galway|Connaught|\n",
      "|5.0| 6.0|             371.0|      NaN|Kilclare House, C...|      Detached|     Cork|  Munster|\n",
      "|5.0| 5.0|             781.0|    1.0E7|Drumleck House, C...|      Detached|Dublin 13| Leinster|\n",
      "|4.0| 3.0|             200.0| 875000.0|13 Inverness Road...|       Terrace| Dublin 3| Leinster|\n",
      "|4.0| 2.0|             152.0| 895000.0|3 Ballymun Road, ...|      Detached| Dublin 9| Leinster|\n",
      "|4.0| 3.0|               NaN| 725000.0|Mallahow, Naul, C...|        Semi-D|   Dublin| Leinster|\n",
      "|1.0| 1.0|              48.0| 270000.0|Apartment 133, Bl...|     Apartment| Dublin 8| Leinster|\n",
      "|4.0| 3.0|             181.0| 495000.0|13 Robin Vale, He...|      Detached|     Cork|  Munster|\n",
      "|2.0| 2.0|              60.0| 245000.0|4 Newlands Manor ...|     Apartment|Dublin 22| Leinster|\n",
      "|7.0| 8.0|             268.0|1200000.0|Waterside House, ...|      Detached|     Cork|  Munster|\n",
      "|0.0| 0.0|3035.0855894136216|      NaN|The Paddocks, Kil...|          Site|    Meath| Leinster|\n",
      "+---+----+------------------+---------+--------------------+--------------+---------+---------+\n",
      "only showing top 20 rows\n",
      "\n"
     ]
    },
    {
     "name": "stderr",
     "output_type": "stream",
     "text": [
      "\r",
      "                                                                                \r"
     ]
    }
   ],
   "source": [
    "sparkDF.show()"
   ]
  },
  {
   "cell_type": "code",
   "execution_count": 13,
   "id": "6bee1f0f",
   "metadata": {},
   "outputs": [
    {
     "name": "stderr",
     "output_type": "stream",
     "text": [
      "\r",
      "[Stage 4:>                                                          (0 + 8) / 8]\r"
     ]
    },
    {
     "name": "stdout",
     "output_type": "stream",
     "text": [
      "+---------+-----+\n",
      "|   County|count|\n",
      "+---------+-----+\n",
      "|    Derry|    1|\n",
      "|Dublin 06|    1|\n",
      "|   Tyrone|    3|\n",
      "|   Armagh|    4|\n",
      "|     Down|    9|\n",
      "+---------+-----+\n",
      "only showing top 5 rows\n",
      "\n"
     ]
    },
    {
     "name": "stderr",
     "output_type": "stream",
     "text": [
      "\r",
      "                                                                                \r"
     ]
    }
   ],
   "source": [
    "sparkDF.groupBy(\"County\").count().sort(\"count\").show(5)"
   ]
  },
  {
   "cell_type": "code",
   "execution_count": 10,
   "id": "ce4adf8a",
   "metadata": {},
   "outputs": [
    {
     "name": "stderr",
     "output_type": "stream",
     "text": [
      "[Stage 1:====================================>                      (5 + 3) / 8]\r"
     ]
    },
    {
     "name": "stdout",
     "output_type": "stream",
     "text": [
      "+---------+-----+\n",
      "|   County|count|\n",
      "+---------+-----+\n",
      "|Dublin 06|    1|\n",
      "|Dublin 17|   29|\n",
      "|Dublin 10|   47|\n",
      "+---------+-----+\n",
      "\n"
     ]
    },
    {
     "name": "stderr",
     "output_type": "stream",
     "text": [
      "\r",
      "                                                                                \r"
     ]
    }
   ],
   "source": [
    "county_count = sparkDF.groupBy(\"County\").count().sort(\"count\")\n",
    "\n",
    "\n",
    "dublin_counties = county_count.filter(\n",
    "    county_count[\"count\"] < 50).filter(\n",
    "    county_count.County.startswith(\n",
    "    \"Dublin\"))\n",
    "\n",
    "dublin_counties.show()\n",
    "non_dublin_counties = county_count.filter(\n",
    "    county_count[\"count\"] < 50).filter(\n",
    "    ~county_count.County.startswith(\n",
    "    \"Dublin\")).select(\n",
    "    \"County\")"
   ]
  },
  {
   "cell_type": "markdown",
   "id": "dc0e7578",
   "metadata": {},
   "source": [
    "As you can see there are a couple of county with only a few properties, for this reason I Will remove rows with less than 50 unless they are in Dublin.  \n",
    "For counties such as Dublin 17 I will rename to just Dublin.\n",
    "\n",
    "First I will change the following.\n",
    "\n",
    "1. Dublin 17\n",
    "1. Dublin 10\n",
    "1. Dublin 20  \n",
    "\n",
    "All to Dublin.  \n",
    "Then I will drop rows with county count < 50."
   ]
  },
  {
   "cell_type": "code",
   "execution_count": 11,
   "id": "4284022c",
   "metadata": {},
   "outputs": [],
   "source": [
    "def remove_small_counties(df, dublin_counties, non_dublin_counties):\n",
    "    for county in dublin_counties.collect():\n",
    "        df= df.replace(county[\"County\"], \"Dublin\")\n",
    "        \n",
    "    for county in non_dublin_counties.collect():\n",
    "        df = df.where(df.County != county[\"County\"])\n",
    "    return df"
   ]
  },
  {
   "cell_type": "code",
   "execution_count": 14,
   "id": "7690576b",
   "metadata": {},
   "outputs": [],
   "source": [
    "sparkDF= remove_small_counties(sparkDF, dublin_counties, non_dublin_counties)"
   ]
  },
  {
   "cell_type": "code",
   "execution_count": 15,
   "id": "d8378094",
   "metadata": {
    "scrolled": true
   },
   "outputs": [
    {
     "name": "stderr",
     "output_type": "stream",
     "text": [
      "\r",
      "[Stage 23:===========================================>              (6 + 2) / 8]\r",
      "\r",
      "                                                                                \r"
     ]
    },
    {
     "name": "stdout",
     "output_type": "stream",
     "text": [
      "+---------+-----+\n",
      "|   County|count|\n",
      "+---------+-----+\n",
      "|Dublin 20|   64|\n",
      "| Dublin 2|   77|\n",
      "| Dublin 1|   94|\n",
      "|Dublin 22|  162|\n",
      "| Monaghan|  171|\n",
      "+---------+-----+\n",
      "only showing top 5 rows\n",
      "\n"
     ]
    }
   ],
   "source": [
    "sparkDF.groupBy(\"County\").count().sort(\"count\").show(5)"
   ]
  },
  {
   "cell_type": "code",
   "execution_count": 62,
   "id": "5cd2415c",
   "metadata": {},
   "outputs": [
    {
     "name": "stderr",
     "output_type": "stream",
     "text": [
      "\r",
      "[Stage 141:>                                                        (0 + 8) / 8]\r",
      "\r",
      "[Stage 141:=================================================>       (7 + 1) / 8]\r"
     ]
    },
    {
     "name": "stdout",
     "output_type": "stream",
     "text": [
      "+-------+-----------------+------------------+--------------------+-----------------+--------------------+-------------+-------+---------+\n",
      "|summary|              Bed|              Bath|          Floor_area|            Price|             Address|Property_type| County| Province|\n",
      "+-------+-----------------+------------------+--------------------+-----------------+--------------------+-------------+-------+---------+\n",
      "|  count|            19584|             19584|               19584|            19584|               19584|        19584|  19584|    19584|\n",
      "|   mean|3.059640522875817| 2.075980392156863|   21640.27954382656|429264.2698120915|                null|         null|   null|     null|\n",
      "| stddev|1.549014341668282|1.3667834059372286|  2108118.8043754483|491146.5708130747|                null|         null|   null|     null|\n",
      "|    min|              0.0|               0.0|                 0.0|          10000.0|  \"Oaks House\" Co...|    Apartment| Carlow|Connaught|\n",
      "|    max|             30.0|              25.0|2.6304075108251387E8|           1.25E7|Áit Eile, Coornag...|    Townhouse|Wicklow|   Ulster|\n",
      "+-------+-----------------+------------------+--------------------+-----------------+--------------------+-------------+-------+---------+\n",
      "\n"
     ]
    },
    {
     "name": "stderr",
     "output_type": "stream",
     "text": [
      "\r",
      "                                                                                \r"
     ]
    }
   ],
   "source": [
    "sparkDF.dropna().describe().show()"
   ]
  },
  {
   "cell_type": "code",
   "execution_count": 2,
   "id": "887b413e",
   "metadata": {},
   "outputs": [],
   "source": [
    "def plot_subjects(df,colName, title, xlabel):   \n",
    "    fontdict = {\"fontsize\":20}\n",
    "    plt.barh(df.index, df[colName],)\n",
    "    plt.title(title,fontdict)\n",
    "    plt.ylabel('Subject ID',fontdict)\n",
    "    plt.xlabel(xlabel,fontdict)\n",
    "    plt.show()\n",
    "    \n",
    "def plot_boxplot(df, title, ylabel, xlabel):\n",
    "    fontdict = {\"fontsize\":20}\n",
    "    plt.title(title)\n",
    "    plt.title(title,fontdict)\n",
    "    plt.ylabel(ylabel,fontdict)\n",
    "    plt.xlabel(xlabel,fontdict)\n",
    "    sns.boxplot(data=df, width = 0.5,orient=\"horizontal\") "
   ]
  },
  {
   "cell_type": "code",
   "execution_count": 82,
   "id": "fa45017a",
   "metadata": {},
   "outputs": [],
   "source": [
    "import ipywidgets as widgets\n",
    "from IPython.display import display, clear_output"
   ]
  },
  {
   "cell_type": "code",
   "execution_count": 103,
   "id": "d9d0ce8b",
   "metadata": {},
   "outputs": [],
   "source": [
    "def create_multipleChoice_widget(description, df, colName):\n",
    "    \n",
    "    options = sorted([county[\"County\"] for county in df.select(colName).distinct().collect()])\n",
    "    \n",
    "    radio_options = [(words, i) for i, words in enumerate(options)]\n",
    "    alternativ = widgets.SelectMultiple(\n",
    "        options = radio_options,\n",
    "        description = '',\n",
    "        disabled = False\n",
    "    )\n",
    "    \n",
    "    description_out = widgets.Output()\n",
    "    with description_out:\n",
    "        print(description)\n",
    "        \n",
    "    feedback_out = widgets.Output()\n",
    "\n",
    "    def check_selection(b):\n",
    "        genre_index = [val for val in alternativ.index]\n",
    "        \n",
    "        with feedback_out:\n",
    "            clear_output()\n",
    "            print(f\"You selected {len(genre_index)}, continue if correct.\")\n",
    "        return genre_index\n",
    "    \n",
    "    check = widgets.Button(description=\"submit\")\n",
    "    check.on_click(check_selection)\n",
    "    return widgets.VBox([description_out, alternativ, check, feedback_out])"
   ]
  },
  {
   "cell_type": "code",
   "execution_count": 104,
   "id": "5e744c12",
   "metadata": {},
   "outputs": [],
   "source": [
    "county_selecter = create_multipleChoice_widget('Pick the county(s) that you are interested in:',sparkDF, \"County\")\n",
    "county_selecter = create_multipleChoice_widget('Pick the county(s) that you are interested in:',sparkDF, \"County\")\n",
    "county_selecter = create_multipleChoice_widget('Pick the county(s) that you are interested in:',sparkDF, \"County\")"
   ]
  },
  {
   "cell_type": "code",
   "execution_count": 106,
   "id": "a0c43d91",
   "metadata": {},
   "outputs": [
    {
     "name": "stdout",
     "output_type": "stream",
     "text": [
      "+---+----+------------------+---------+--------------------+--------------+---------+---------+\n",
      "|Bed|Bath|        Floor_area|    Price|             Address| Property_type|   County| Province|\n",
      "+---+----+------------------+---------+--------------------+--------------+---------+---------+\n",
      "|2.0| 1.0|              52.0| 295000.0|8 Parknasilla, Ve...|     Apartment|  Wicklow| Leinster|\n",
      "|3.0| 3.0|              93.0| 230000.0|7 Meadow Avenue, ...|        Semi-D|     Cork|  Munster|\n",
      "|4.0| 3.0|              86.0| 265000.0|5 Friar Street, C...|       Terrace|     Cork|  Munster|\n",
      "|3.0| 1.0|              82.0| 375000.0|12 Barrack Street...|End of Terrace|     Cork|  Munster|\n",
      "|5.0| 4.0|             186.0| 405000.0|3 The Garden, Whi...|        Semi-D|    Meath| Leinster|\n",
      "|6.0| 7.0|             763.0|3000000.0|7 Henrietta Stree...|       Terrace| Dublin 1| Leinster|\n",
      "|5.0| 5.0|             328.0| 795000.0|Zion House, Carnm...|      Detached|   Galway|Connaught|\n",
      "|5.0| 4.0|             232.0| 625000.0|3 The Fairways, M...|      Detached|     Cork|  Munster|\n",
      "|3.0| 2.0|             171.0| 230000.0|Derryart, Dunfana...|      Detached|  Donegal|   Ulster|\n",
      "|4.0| 3.0|             125.0| 295000.0|168 Palace Fields...|        Semi-D|   Galway|Connaught|\n",
      "|5.0| 6.0|             371.0|      NaN|Kilclare House, C...|      Detached|     Cork|  Munster|\n",
      "|5.0| 5.0|             781.0|    1.0E7|Drumleck House, C...|      Detached|Dublin 13| Leinster|\n",
      "|4.0| 3.0|             200.0| 875000.0|13 Inverness Road...|       Terrace| Dublin 3| Leinster|\n",
      "|4.0| 2.0|             152.0| 895000.0|3 Ballymun Road, ...|      Detached| Dublin 9| Leinster|\n",
      "|4.0| 3.0|               NaN| 725000.0|Mallahow, Naul, C...|        Semi-D|   Dublin| Leinster|\n",
      "|1.0| 1.0|              48.0| 270000.0|Apartment 133, Bl...|     Apartment| Dublin 8| Leinster|\n",
      "|4.0| 3.0|             181.0| 495000.0|13 Robin Vale, He...|      Detached|     Cork|  Munster|\n",
      "|2.0| 2.0|              60.0| 245000.0|4 Newlands Manor ...|     Apartment|Dublin 22| Leinster|\n",
      "|7.0| 8.0|             268.0|1200000.0|Waterside House, ...|      Detached|     Cork|  Munster|\n",
      "|0.0| 0.0|3035.0855894136216|      NaN|The Paddocks, Kil...|          Site|    Meath| Leinster|\n",
      "+---+----+------------------+---------+--------------------+--------------+---------+---------+\n",
      "only showing top 20 rows\n",
      "\n",
      "2022-12-17T23:25:27,245 WARN [dispatcher-event-loop-0] org.apache.spark.HeartbeatReceiver - Removing executor driver with no recent heartbeats: 12928043 ms exceeds timeout 120000 ms\n",
      "2022-12-17T23:25:27,394 WARN [kill-executor-thread] org.apache.spark.SparkContext - Killing executors is not supported by current scheduler.\n"
     ]
    }
   ],
   "source": [
    "sparkDF.show()"
   ]
  },
  {
   "cell_type": "code",
   "execution_count": 105,
   "id": "3ea3e0b7",
   "metadata": {},
   "outputs": [
    {
     "data": {
      "application/vnd.jupyter.widget-view+json": {
       "model_id": "da9b50d8a3644baa893f59915e8400c4",
       "version_major": 2,
       "version_minor": 0
      },
      "text/plain": [
       "VBox(children=(Output(), SelectMultiple(options=(('Carlow', 0), ('Cavan', 1), ('Clare', 2), ('Cork', 3), ('Don…"
      ]
     },
     "metadata": {},
     "output_type": "display_data"
    }
   ],
   "source": [
    "display(s)"
   ]
  },
  {
   "cell_type": "code",
   "execution_count": null,
   "id": "c83bee55",
   "metadata": {},
   "outputs": [],
   "source": []
  }
 ],
 "metadata": {
  "kernelspec": {
   "display_name": "Python 3 (ipykernel)",
   "language": "python",
   "name": "python3"
  },
  "language_info": {
   "codemirror_mode": {
    "name": "ipython",
    "version": 3
   },
   "file_extension": ".py",
   "mimetype": "text/x-python",
   "name": "python",
   "nbconvert_exporter": "python",
   "pygments_lexer": "ipython3",
   "version": "3.8.10"
  }
 },
 "nbformat": 4,
 "nbformat_minor": 5
}
