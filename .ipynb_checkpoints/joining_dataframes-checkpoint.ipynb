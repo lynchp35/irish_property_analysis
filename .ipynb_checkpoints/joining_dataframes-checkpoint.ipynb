{
 "cells": [
  {
   "cell_type": "raw",
   "id": "dcfd8be6",
   "metadata": {},
   "source": [
    "# Install fiona - need to comment out for transfer to live site.\n",
    "# Turn on for running in a notebook\n",
    "#%%capture\n",
    "!pip install fiona\n",
    "\n",
    "# Install geopandas - need to comment out for tranfer to live site.\n",
    "# Turn on for running in a notebook\n",
    "#%%capture\n",
    "!pip install geopandas"
   ]
  },
  {
   "cell_type": "code",
   "execution_count": 1,
   "id": "6066b0e1",
   "metadata": {},
   "outputs": [
    {
     "data": {
      "text/html": [
       "<style>\n",
       "        .bk-notebook-logo {\n",
       "            display: block;\n",
       "            width: 20px;\n",
       "            height: 20px;\n",
       "            background-image: url(data:image/png;base64,iVBORw0KGgoAAAANSUhEUgAAABQAAAAUCAYAAACNiR0NAAAABHNCSVQICAgIfAhkiAAAAAlwSFlzAAALEgAACxIB0t1+/AAAABx0RVh0U29mdHdhcmUAQWRvYmUgRmlyZXdvcmtzIENTNui8sowAAAOkSURBVDiNjZRtaJVlGMd/1/08zzln5zjP1LWcU9N0NkN8m2CYjpgQYQXqSs0I84OLIC0hkEKoPtiH3gmKoiJDU7QpLgoLjLIQCpEsNJ1vqUOdO7ppbuec5+V+rj4ctwzd8IIbbi6u+8f1539dt3A78eXC7QizUF7gyV1fD1Yqg4JWz84yffhm0qkFqBogB9rM8tZdtwVsPUhWhGcFJngGeWrPzHm5oaMmkfEg1usvLFyc8jLRqDOMru7AyC8saQr7GG7f5fvDeH7Ej8CM66nIF+8yngt6HWaKh7k49Soy9nXurCi1o3qUbS3zWfrYeQDTB/Qj6kX6Ybhw4B+bOYoLKCC9H3Nu/leUTZ1JdRWkkn2ldcCamzrcf47KKXdAJllSlxAOkRgyHsGC/zRday5Qld9DyoM4/q/rUoy/CXh3jzOu3bHUVZeU+DEn8FInkPBFlu3+nW3Nw0mk6vCDiWg8CeJaxEwuHS3+z5RgY+YBR6V1Z1nxSOfoaPa4LASWxxdNp+VWTk7+4vzaou8v8PN+xo+KY2xsw6une2frhw05CTYOmQvsEhjhWjn0bmXPjpE1+kplmmkP3suftwTubK9Vq22qKmrBhpY4jvd5afdRA3wGjFAgcnTK2s4hY0/GPNIb0nErGMCRxWOOX64Z8RAC4oCXdklmEvcL8o0BfkNK4lUg9HTl+oPlQxdNo3Mg4Nv175e/1LDGzZen30MEjRUtmXSfiTVu1kK8W4txyV6BMKlbgk3lMwYCiusNy9fVfvvwMxv8Ynl6vxoByANLTWplvuj/nF9m2+PDtt1eiHPBr1oIfhCChQMBw6Aw0UulqTKZdfVvfG7VcfIqLG9bcldL/+pdWTLxLUy8Qq38heUIjh4XlzZxzQm19lLFlr8vdQ97rjZVOLf8nclzckbcD4wxXMidpX30sFd37Fv/GtwwhzhxGVAprjbg0gCAEeIgwCZyTV2Z1REEW8O4py0wsjeloKoMr6iCY6dP92H6Vw/oTyICIthibxjm/DfN9lVz8IqtqKYLUXfoKVMVQVVJOElGjrnnUt9T9wbgp8AyYKaGlqingHZU/uG2NTZSVqwHQTWkx9hxjkpWDaCg6Ckj5qebgBVbT3V3NNXMSiWSDdGV3hrtzla7J+duwPOToIg42ChPQOQjspnSlp1V+Gjdged7+8UN5CRAV7a5EdFNwCjEaBR27b3W890TE7g24NAP/mMDXRWrGoFPQI9ls/MWO2dWFAar/xcOIImbbpA3zgAAAABJRU5ErkJggg==);\n",
       "        }\n",
       "    </style>\n",
       "    <div>\n",
       "        <a href=\"https://bokeh.org\" target=\"_blank\" class=\"bk-notebook-logo\"></a>\n",
       "        <span id=\"p1001\">Loading BokehJS ...</span>\n",
       "    </div>\n"
      ]
     },
     "metadata": {},
     "output_type": "display_data"
    },
    {
     "data": {
      "application/javascript": [
       "(function(root) {\n",
       "  function now() {\n",
       "    return new Date();\n",
       "  }\n",
       "\n",
       "  const force = true;\n",
       "\n",
       "  if (typeof root._bokeh_onload_callbacks === \"undefined\" || force === true) {\n",
       "    root._bokeh_onload_callbacks = [];\n",
       "    root._bokeh_is_loading = undefined;\n",
       "  }\n",
       "\n",
       "const JS_MIME_TYPE = 'application/javascript';\n",
       "  const HTML_MIME_TYPE = 'text/html';\n",
       "  const EXEC_MIME_TYPE = 'application/vnd.bokehjs_exec.v0+json';\n",
       "  const CLASS_NAME = 'output_bokeh rendered_html';\n",
       "\n",
       "  /**\n",
       "   * Render data to the DOM node\n",
       "   */\n",
       "  function render(props, node) {\n",
       "    const script = document.createElement(\"script\");\n",
       "    node.appendChild(script);\n",
       "  }\n",
       "\n",
       "  /**\n",
       "   * Handle when an output is cleared or removed\n",
       "   */\n",
       "  function handleClearOutput(event, handle) {\n",
       "    const cell = handle.cell;\n",
       "\n",
       "    const id = cell.output_area._bokeh_element_id;\n",
       "    const server_id = cell.output_area._bokeh_server_id;\n",
       "    // Clean up Bokeh references\n",
       "    if (id != null && id in Bokeh.index) {\n",
       "      Bokeh.index[id].model.document.clear();\n",
       "      delete Bokeh.index[id];\n",
       "    }\n",
       "\n",
       "    if (server_id !== undefined) {\n",
       "      // Clean up Bokeh references\n",
       "      const cmd_clean = \"from bokeh.io.state import curstate; print(curstate().uuid_to_server['\" + server_id + \"'].get_sessions()[0].document.roots[0]._id)\";\n",
       "      cell.notebook.kernel.execute(cmd_clean, {\n",
       "        iopub: {\n",
       "          output: function(msg) {\n",
       "            const id = msg.content.text.trim();\n",
       "            if (id in Bokeh.index) {\n",
       "              Bokeh.index[id].model.document.clear();\n",
       "              delete Bokeh.index[id];\n",
       "            }\n",
       "          }\n",
       "        }\n",
       "      });\n",
       "      // Destroy server and session\n",
       "      const cmd_destroy = \"import bokeh.io.notebook as ion; ion.destroy_server('\" + server_id + \"')\";\n",
       "      cell.notebook.kernel.execute(cmd_destroy);\n",
       "    }\n",
       "  }\n",
       "\n",
       "  /**\n",
       "   * Handle when a new output is added\n",
       "   */\n",
       "  function handleAddOutput(event, handle) {\n",
       "    const output_area = handle.output_area;\n",
       "    const output = handle.output;\n",
       "\n",
       "    // limit handleAddOutput to display_data with EXEC_MIME_TYPE content only\n",
       "    if ((output.output_type != \"display_data\") || (!Object.prototype.hasOwnProperty.call(output.data, EXEC_MIME_TYPE))) {\n",
       "      return\n",
       "    }\n",
       "\n",
       "    const toinsert = output_area.element.find(\".\" + CLASS_NAME.split(' ')[0]);\n",
       "\n",
       "    if (output.metadata[EXEC_MIME_TYPE][\"id\"] !== undefined) {\n",
       "      toinsert[toinsert.length - 1].firstChild.textContent = output.data[JS_MIME_TYPE];\n",
       "      // store reference to embed id on output_area\n",
       "      output_area._bokeh_element_id = output.metadata[EXEC_MIME_TYPE][\"id\"];\n",
       "    }\n",
       "    if (output.metadata[EXEC_MIME_TYPE][\"server_id\"] !== undefined) {\n",
       "      const bk_div = document.createElement(\"div\");\n",
       "      bk_div.innerHTML = output.data[HTML_MIME_TYPE];\n",
       "      const script_attrs = bk_div.children[0].attributes;\n",
       "      for (let i = 0; i < script_attrs.length; i++) {\n",
       "        toinsert[toinsert.length - 1].firstChild.setAttribute(script_attrs[i].name, script_attrs[i].value);\n",
       "        toinsert[toinsert.length - 1].firstChild.textContent = bk_div.children[0].textContent\n",
       "      }\n",
       "      // store reference to server id on output_area\n",
       "      output_area._bokeh_server_id = output.metadata[EXEC_MIME_TYPE][\"server_id\"];\n",
       "    }\n",
       "  }\n",
       "\n",
       "  function register_renderer(events, OutputArea) {\n",
       "\n",
       "    function append_mime(data, metadata, element) {\n",
       "      // create a DOM node to render to\n",
       "      const toinsert = this.create_output_subarea(\n",
       "        metadata,\n",
       "        CLASS_NAME,\n",
       "        EXEC_MIME_TYPE\n",
       "      );\n",
       "      this.keyboard_manager.register_events(toinsert);\n",
       "      // Render to node\n",
       "      const props = {data: data, metadata: metadata[EXEC_MIME_TYPE]};\n",
       "      render(props, toinsert[toinsert.length - 1]);\n",
       "      element.append(toinsert);\n",
       "      return toinsert\n",
       "    }\n",
       "\n",
       "    /* Handle when an output is cleared or removed */\n",
       "    events.on('clear_output.CodeCell', handleClearOutput);\n",
       "    events.on('delete.Cell', handleClearOutput);\n",
       "\n",
       "    /* Handle when a new output is added */\n",
       "    events.on('output_added.OutputArea', handleAddOutput);\n",
       "\n",
       "    /**\n",
       "     * Register the mime type and append_mime function with output_area\n",
       "     */\n",
       "    OutputArea.prototype.register_mime_type(EXEC_MIME_TYPE, append_mime, {\n",
       "      /* Is output safe? */\n",
       "      safe: true,\n",
       "      /* Index of renderer in `output_area.display_order` */\n",
       "      index: 0\n",
       "    });\n",
       "  }\n",
       "\n",
       "  // register the mime type if in Jupyter Notebook environment and previously unregistered\n",
       "  if (root.Jupyter !== undefined) {\n",
       "    const events = require('base/js/events');\n",
       "    const OutputArea = require('notebook/js/outputarea').OutputArea;\n",
       "\n",
       "    if (OutputArea.prototype.mime_types().indexOf(EXEC_MIME_TYPE) == -1) {\n",
       "      register_renderer(events, OutputArea);\n",
       "    }\n",
       "  }\n",
       "  if (typeof (root._bokeh_timeout) === \"undefined\" || force === true) {\n",
       "    root._bokeh_timeout = Date.now() + 5000;\n",
       "    root._bokeh_failed_load = false;\n",
       "  }\n",
       "\n",
       "  const NB_LOAD_WARNING = {'data': {'text/html':\n",
       "     \"<div style='background-color: #fdd'>\\n\"+\n",
       "     \"<p>\\n\"+\n",
       "     \"BokehJS does not appear to have successfully loaded. If loading BokehJS from CDN, this \\n\"+\n",
       "     \"may be due to a slow or bad network connection. Possible fixes:\\n\"+\n",
       "     \"</p>\\n\"+\n",
       "     \"<ul>\\n\"+\n",
       "     \"<li>re-rerun `output_notebook()` to attempt to load from CDN again, or</li>\\n\"+\n",
       "     \"<li>use INLINE resources instead, as so:</li>\\n\"+\n",
       "     \"</ul>\\n\"+\n",
       "     \"<code>\\n\"+\n",
       "     \"from bokeh.resources import INLINE\\n\"+\n",
       "     \"output_notebook(resources=INLINE)\\n\"+\n",
       "     \"</code>\\n\"+\n",
       "     \"</div>\"}};\n",
       "\n",
       "  function display_loaded() {\n",
       "    const el = document.getElementById(\"p1001\");\n",
       "    if (el != null) {\n",
       "      el.textContent = \"BokehJS is loading...\";\n",
       "    }\n",
       "    if (root.Bokeh !== undefined) {\n",
       "      if (el != null) {\n",
       "        el.textContent = \"BokehJS \" + root.Bokeh.version + \" successfully loaded.\";\n",
       "      }\n",
       "    } else if (Date.now() < root._bokeh_timeout) {\n",
       "      setTimeout(display_loaded, 100)\n",
       "    }\n",
       "  }\n",
       "\n",
       "  function run_callbacks() {\n",
       "    try {\n",
       "      root._bokeh_onload_callbacks.forEach(function(callback) {\n",
       "        if (callback != null)\n",
       "          callback();\n",
       "      });\n",
       "    } finally {\n",
       "      delete root._bokeh_onload_callbacks\n",
       "    }\n",
       "    console.debug(\"Bokeh: all callbacks have finished\");\n",
       "  }\n",
       "\n",
       "  function load_libs(css_urls, js_urls, callback) {\n",
       "    if (css_urls == null) css_urls = [];\n",
       "    if (js_urls == null) js_urls = [];\n",
       "\n",
       "    root._bokeh_onload_callbacks.push(callback);\n",
       "    if (root._bokeh_is_loading > 0) {\n",
       "      console.debug(\"Bokeh: BokehJS is being loaded, scheduling callback at\", now());\n",
       "      return null;\n",
       "    }\n",
       "    if (js_urls == null || js_urls.length === 0) {\n",
       "      run_callbacks();\n",
       "      return null;\n",
       "    }\n",
       "    console.debug(\"Bokeh: BokehJS not loaded, scheduling load and callback at\", now());\n",
       "    root._bokeh_is_loading = css_urls.length + js_urls.length;\n",
       "\n",
       "    function on_load() {\n",
       "      root._bokeh_is_loading--;\n",
       "      if (root._bokeh_is_loading === 0) {\n",
       "        console.debug(\"Bokeh: all BokehJS libraries/stylesheets loaded\");\n",
       "        run_callbacks()\n",
       "      }\n",
       "    }\n",
       "\n",
       "    function on_error(url) {\n",
       "      console.error(\"failed to load \" + url);\n",
       "    }\n",
       "\n",
       "    for (let i = 0; i < css_urls.length; i++) {\n",
       "      const url = css_urls[i];\n",
       "      const element = document.createElement(\"link\");\n",
       "      element.onload = on_load;\n",
       "      element.onerror = on_error.bind(null, url);\n",
       "      element.rel = \"stylesheet\";\n",
       "      element.type = \"text/css\";\n",
       "      element.href = url;\n",
       "      console.debug(\"Bokeh: injecting link tag for BokehJS stylesheet: \", url);\n",
       "      document.body.appendChild(element);\n",
       "    }\n",
       "\n",
       "    for (let i = 0; i < js_urls.length; i++) {\n",
       "      const url = js_urls[i];\n",
       "      const element = document.createElement('script');\n",
       "      element.onload = on_load;\n",
       "      element.onerror = on_error.bind(null, url);\n",
       "      element.async = false;\n",
       "      element.src = url;\n",
       "      console.debug(\"Bokeh: injecting script tag for BokehJS library: \", url);\n",
       "      document.head.appendChild(element);\n",
       "    }\n",
       "  };\n",
       "\n",
       "  function inject_raw_css(css) {\n",
       "    const element = document.createElement(\"style\");\n",
       "    element.appendChild(document.createTextNode(css));\n",
       "    document.body.appendChild(element);\n",
       "  }\n",
       "\n",
       "  const js_urls = [\"https://cdn.bokeh.org/bokeh/release/bokeh-3.0.3.min.js\", \"https://cdn.bokeh.org/bokeh/release/bokeh-gl-3.0.3.min.js\", \"https://cdn.bokeh.org/bokeh/release/bokeh-widgets-3.0.3.min.js\", \"https://cdn.bokeh.org/bokeh/release/bokeh-tables-3.0.3.min.js\", \"https://cdn.bokeh.org/bokeh/release/bokeh-mathjax-3.0.3.min.js\"];\n",
       "  const css_urls = [];\n",
       "\n",
       "  const inline_js = [    function(Bokeh) {\n",
       "      Bokeh.set_log_level(\"info\");\n",
       "    },\n",
       "function(Bokeh) {\n",
       "    }\n",
       "  ];\n",
       "\n",
       "  function run_inline_js() {\n",
       "    if (root.Bokeh !== undefined || force === true) {\n",
       "          for (let i = 0; i < inline_js.length; i++) {\n",
       "      inline_js[i].call(root, root.Bokeh);\n",
       "    }\n",
       "if (force === true) {\n",
       "        display_loaded();\n",
       "      }} else if (Date.now() < root._bokeh_timeout) {\n",
       "      setTimeout(run_inline_js, 100);\n",
       "    } else if (!root._bokeh_failed_load) {\n",
       "      console.log(\"Bokeh: BokehJS failed to load within specified timeout.\");\n",
       "      root._bokeh_failed_load = true;\n",
       "    } else if (force !== true) {\n",
       "      const cell = $(document.getElementById(\"p1001\")).parents('.cell').data().cell;\n",
       "      cell.output_area.append_execute_result(NB_LOAD_WARNING)\n",
       "    }\n",
       "  }\n",
       "\n",
       "  if (root._bokeh_is_loading === 0) {\n",
       "    console.debug(\"Bokeh: BokehJS loaded, going straight to plotting\");\n",
       "    run_inline_js();\n",
       "  } else {\n",
       "    load_libs(css_urls, js_urls, function() {\n",
       "      console.debug(\"Bokeh: BokehJS plotting callback run at\", now());\n",
       "      run_inline_js();\n",
       "    });\n",
       "  }\n",
       "}(window));"
      ],
      "application/vnd.bokehjs_load.v0+json": "(function(root) {\n  function now() {\n    return new Date();\n  }\n\n  const force = true;\n\n  if (typeof root._bokeh_onload_callbacks === \"undefined\" || force === true) {\n    root._bokeh_onload_callbacks = [];\n    root._bokeh_is_loading = undefined;\n  }\n\n\n  if (typeof (root._bokeh_timeout) === \"undefined\" || force === true) {\n    root._bokeh_timeout = Date.now() + 5000;\n    root._bokeh_failed_load = false;\n  }\n\n  const NB_LOAD_WARNING = {'data': {'text/html':\n     \"<div style='background-color: #fdd'>\\n\"+\n     \"<p>\\n\"+\n     \"BokehJS does not appear to have successfully loaded. If loading BokehJS from CDN, this \\n\"+\n     \"may be due to a slow or bad network connection. Possible fixes:\\n\"+\n     \"</p>\\n\"+\n     \"<ul>\\n\"+\n     \"<li>re-rerun `output_notebook()` to attempt to load from CDN again, or</li>\\n\"+\n     \"<li>use INLINE resources instead, as so:</li>\\n\"+\n     \"</ul>\\n\"+\n     \"<code>\\n\"+\n     \"from bokeh.resources import INLINE\\n\"+\n     \"output_notebook(resources=INLINE)\\n\"+\n     \"</code>\\n\"+\n     \"</div>\"}};\n\n  function display_loaded() {\n    const el = document.getElementById(\"p1001\");\n    if (el != null) {\n      el.textContent = \"BokehJS is loading...\";\n    }\n    if (root.Bokeh !== undefined) {\n      if (el != null) {\n        el.textContent = \"BokehJS \" + root.Bokeh.version + \" successfully loaded.\";\n      }\n    } else if (Date.now() < root._bokeh_timeout) {\n      setTimeout(display_loaded, 100)\n    }\n  }\n\n  function run_callbacks() {\n    try {\n      root._bokeh_onload_callbacks.forEach(function(callback) {\n        if (callback != null)\n          callback();\n      });\n    } finally {\n      delete root._bokeh_onload_callbacks\n    }\n    console.debug(\"Bokeh: all callbacks have finished\");\n  }\n\n  function load_libs(css_urls, js_urls, callback) {\n    if (css_urls == null) css_urls = [];\n    if (js_urls == null) js_urls = [];\n\n    root._bokeh_onload_callbacks.push(callback);\n    if (root._bokeh_is_loading > 0) {\n      console.debug(\"Bokeh: BokehJS is being loaded, scheduling callback at\", now());\n      return null;\n    }\n    if (js_urls == null || js_urls.length === 0) {\n      run_callbacks();\n      return null;\n    }\n    console.debug(\"Bokeh: BokehJS not loaded, scheduling load and callback at\", now());\n    root._bokeh_is_loading = css_urls.length + js_urls.length;\n\n    function on_load() {\n      root._bokeh_is_loading--;\n      if (root._bokeh_is_loading === 0) {\n        console.debug(\"Bokeh: all BokehJS libraries/stylesheets loaded\");\n        run_callbacks()\n      }\n    }\n\n    function on_error(url) {\n      console.error(\"failed to load \" + url);\n    }\n\n    for (let i = 0; i < css_urls.length; i++) {\n      const url = css_urls[i];\n      const element = document.createElement(\"link\");\n      element.onload = on_load;\n      element.onerror = on_error.bind(null, url);\n      element.rel = \"stylesheet\";\n      element.type = \"text/css\";\n      element.href = url;\n      console.debug(\"Bokeh: injecting link tag for BokehJS stylesheet: \", url);\n      document.body.appendChild(element);\n    }\n\n    for (let i = 0; i < js_urls.length; i++) {\n      const url = js_urls[i];\n      const element = document.createElement('script');\n      element.onload = on_load;\n      element.onerror = on_error.bind(null, url);\n      element.async = false;\n      element.src = url;\n      console.debug(\"Bokeh: injecting script tag for BokehJS library: \", url);\n      document.head.appendChild(element);\n    }\n  };\n\n  function inject_raw_css(css) {\n    const element = document.createElement(\"style\");\n    element.appendChild(document.createTextNode(css));\n    document.body.appendChild(element);\n  }\n\n  const js_urls = [\"https://cdn.bokeh.org/bokeh/release/bokeh-3.0.3.min.js\", \"https://cdn.bokeh.org/bokeh/release/bokeh-gl-3.0.3.min.js\", \"https://cdn.bokeh.org/bokeh/release/bokeh-widgets-3.0.3.min.js\", \"https://cdn.bokeh.org/bokeh/release/bokeh-tables-3.0.3.min.js\", \"https://cdn.bokeh.org/bokeh/release/bokeh-mathjax-3.0.3.min.js\"];\n  const css_urls = [];\n\n  const inline_js = [    function(Bokeh) {\n      Bokeh.set_log_level(\"info\");\n    },\nfunction(Bokeh) {\n    }\n  ];\n\n  function run_inline_js() {\n    if (root.Bokeh !== undefined || force === true) {\n          for (let i = 0; i < inline_js.length; i++) {\n      inline_js[i].call(root, root.Bokeh);\n    }\nif (force === true) {\n        display_loaded();\n      }} else if (Date.now() < root._bokeh_timeout) {\n      setTimeout(run_inline_js, 100);\n    } else if (!root._bokeh_failed_load) {\n      console.log(\"Bokeh: BokehJS failed to load within specified timeout.\");\n      root._bokeh_failed_load = true;\n    } else if (force !== true) {\n      const cell = $(document.getElementById(\"p1001\")).parents('.cell').data().cell;\n      cell.output_area.append_execute_result(NB_LOAD_WARNING)\n    }\n  }\n\n  if (root._bokeh_is_loading === 0) {\n    console.debug(\"Bokeh: BokehJS loaded, going straight to plotting\");\n    run_inline_js();\n  } else {\n    load_libs(css_urls, js_urls, function() {\n      console.debug(\"Bokeh: BokehJS plotting callback run at\", now());\n      run_inline_js();\n    });\n  }\n}(window));"
     },
     "metadata": {},
     "output_type": "display_data"
    }
   ],
   "source": [
    "# Import libraries\n",
    "import pandas as pd\n",
    "import numpy as np\n",
    "import math\n",
    "\n",
    "from pyspark.sql.functions import col, udf\n",
    "\n",
    "import geopandas\n",
    "import json\n",
    "\n",
    "from ipywidgets import interact\n",
    "\n",
    "from bokeh.io import output_notebook, show, output_file, push_notebook\n",
    "from bokeh.plotting import figure\n",
    "\n",
    "from bokeh.models import GeoJSONDataSource, LinearColorMapper, ColorBar, NumeralTickFormatter, ColumnDataSource, HoverTool\n",
    "from bokeh.palettes import brewer\n",
    "from bokeh.transform import factor_cmap\n",
    "\n",
    "from bokeh.io.doc import curdoc\n",
    "from bokeh.models import Slider, HoverTool, Select\n",
    "from bokeh.layouts import row, column\n",
    "\n",
    "output_notebook()"
   ]
  },
  {
   "cell_type": "code",
   "execution_count": 2,
   "id": "d70d8bab",
   "metadata": {},
   "outputs": [
    {
     "name": "stdout",
     "output_type": "stream",
     "text": [
      "2022-12-19T12:19:05,285 WARN [Thread-4] org.apache.spark.sql.SparkSession - Using an existing Spark session; only runtime SQL configurations will take effect.\n"
     ]
    }
   ],
   "source": [
    "# Import SparkSession\n",
    "from pyspark.sql import SparkSession\n",
    "\n",
    "# Create SparkSession \n",
    "spark = SparkSession.builder \\\n",
    "      .master(\"local[1]\") \\\n",
    "      .appName(\"SparkByExamples.com\") \\\n",
    "      .getOrCreate() "
   ]
  },
  {
   "cell_type": "code",
   "execution_count": 3,
   "id": "80bcc5c5",
   "metadata": {},
   "outputs": [
    {
     "name": "stderr",
     "output_type": "stream",
     "text": [
      "/home/lynchp/hadoop_dss/spark/python/pyspark/sql/pandas/conversion.py:474: FutureWarning: iteritems is deprecated and will be removed in a future version. Use .items instead.\n",
      "  for column, series in pdf.iteritems():\n",
      "/home/lynchp/hadoop_dss/spark/python/pyspark/sql/pandas/conversion.py:486: FutureWarning: iteritems is deprecated and will be removed in a future version. Use .items instead.\n",
      "  for column, series in pdf.iteritems():\n",
      "/home/lynchp/hadoop_dss/spark/python/pyspark/sql/pandas/conversion.py:474: FutureWarning: iteritems is deprecated and will be removed in a future version. Use .items instead.\n",
      "  for column, series in pdf.iteritems():\n",
      "/home/lynchp/hadoop_dss/spark/python/pyspark/sql/pandas/conversion.py:486: FutureWarning: iteritems is deprecated and will be removed in a future version. Use .items instead.\n",
      "  for column, series in pdf.iteritems():\n"
     ]
    }
   ],
   "source": [
    "daft_listings = pd.read_csv(\"data/cleaned/daft_listing.csv\", index_col=[\"Unnamed: 0\"]).drop(columns=[\"New_build\", \"Page\"]).dropna()\n",
    "daft_listings=spark.createDataFrame(daft_listings)\n",
    "\n",
    "myhome_listings = pd.read_csv(\"data/cleaned/myhome_listing.csv\", index_col=[\"Unnamed: 0\"]).drop(columns=[\"New_build\", \"Page\"]).dropna()\n",
    "myhome_listings=spark.createDataFrame(myhome_listings)"
   ]
  },
  {
   "cell_type": "code",
   "execution_count": 4,
   "id": "293e79c5",
   "metadata": {},
   "outputs": [
    {
     "name": "stdout",
     "output_type": "stream",
     "text": [
      "root\n",
      " |-- Bed: double (nullable = true)\n",
      " |-- Bath: double (nullable = true)\n",
      " |-- m²: double (nullable = true)\n",
      " |-- Price: double (nullable = true)\n",
      " |-- Address: string (nullable = true)\n",
      " |-- Property_type: string (nullable = true)\n",
      " |-- County: string (nullable = true)\n",
      " |-- Province: string (nullable = true)\n",
      "\n"
     ]
    }
   ],
   "source": [
    "daft_listings.printSchema()"
   ]
  },
  {
   "cell_type": "code",
   "execution_count": 5,
   "id": "681cf319",
   "metadata": {},
   "outputs": [
    {
     "name": "stderr",
     "output_type": "stream",
     "text": [
      "                                                                                \r"
     ]
    },
    {
     "name": "stdout",
     "output_type": "stream",
     "text": [
      "+-------+------------------+------------------+--------------------+-----------------+--------------------+-------------+-------+---------+\n",
      "|summary|               Bed|              Bath|                  m²|            Price|             Address|Property_type| County| Province|\n",
      "+-------+------------------+------------------+--------------------+-----------------+--------------------+-------------+-------+---------+\n",
      "|  count|             14313|             14313|               14313|            14313|               14313|        14313|  14313|    14313|\n",
      "|   mean|2.8133864319150423|1.9100817438692097|  29740.842696988388|387480.8861873821|                null|         null|   null|     null|\n",
      "| stddev|1.7630483590828863| 1.471531487686808|     2465902.7293377| 482103.419954341|                null|         null|   null|     null|\n",
      "|    min|               0.0|               0.0|                 0.0|          10000.0| 94 Glasanaon Roa...|    Apartment| Carlow|Connaught|\n",
      "|    max|              30.0|              25.0|2.6304075108251387E8|           1.25E7|Áit Eile, Coornag...|    Townhouse|Wicklow|   Ulster|\n",
      "+-------+------------------+------------------+--------------------+-----------------+--------------------+-------------+-------+---------+\n",
      "\n"
     ]
    }
   ],
   "source": [
    "daft_listings.describe().show()"
   ]
  },
  {
   "cell_type": "code",
   "execution_count": 6,
   "id": "7dc04edf",
   "metadata": {},
   "outputs": [
    {
     "name": "stdout",
     "output_type": "stream",
     "text": [
      "root\n",
      " |-- beds: double (nullable = true)\n",
      " |-- baths: double (nullable = true)\n",
      " |-- floor_area: double (nullable = true)\n",
      " |-- Price: double (nullable = true)\n",
      " |-- Address: string (nullable = true)\n",
      " |-- Property_type: string (nullable = true)\n",
      " |-- County: string (nullable = true)\n",
      " |-- Province: string (nullable = true)\n",
      "\n"
     ]
    }
   ],
   "source": [
    "myhome_listings.printSchema()"
   ]
  },
  {
   "cell_type": "code",
   "execution_count": 7,
   "id": "078bf18d",
   "metadata": {},
   "outputs": [
    {
     "name": "stderr",
     "output_type": "stream",
     "text": [
      "                                                                                \r"
     ]
    },
    {
     "name": "stdout",
     "output_type": "stream",
     "text": [
      "+-------+------------------+------------------+------------------+------------------+--------------------+-------------+-------+---------+\n",
      "|summary|              beds|             baths|        floor_area|             Price|             Address|Property_type| County| Province|\n",
      "+-------+------------------+------------------+------------------+------------------+--------------------+-------------+-------+---------+\n",
      "|  count|              7153|              7153|              7153|              7153|                7153|         7153|   7153|     7153|\n",
      "|   mean|  3.25961135188033|2.2369635118132254|171.46444097315813|  479401.899622536|                null|         null|   null|     null|\n",
      "| stddev|1.1362014873466528|1.1465190757149526|1833.7756169119957|492284.40263765387|                null|         null|   null|     null|\n",
      "|    min|               1.0|               1.0|               0.0|           30000.0|  \"Oaks House\" Co...|    Apartment| Carlow|Connaught|\n",
      "|    max|              14.0|              14.0|       113393.0172|            1.25E7| “Loth Lorien” Ba...|    Townhouse|Wicklow|   Ulster|\n",
      "+-------+------------------+------------------+------------------+------------------+--------------------+-------------+-------+---------+\n",
      "\n"
     ]
    }
   ],
   "source": [
    "myhome_listings.describe().show()"
   ]
  },
  {
   "cell_type": "code",
   "execution_count": 8,
   "id": "90bcdfc6",
   "metadata": {},
   "outputs": [
    {
     "name": "stdout",
     "output_type": "stream",
     "text": [
      "False\n"
     ]
    }
   ],
   "source": [
    "print(daft_listings.columns == myhome_listings.columns)"
   ]
  },
  {
   "cell_type": "code",
   "execution_count": 9,
   "id": "8761fca7",
   "metadata": {},
   "outputs": [
    {
     "name": "stdout",
     "output_type": "stream",
     "text": [
      "True\n"
     ]
    }
   ],
   "source": [
    "updated_colNames = [\"Beds\", \"Baths\", \"Floor_area\"]\n",
    "for i, colName in enumerate(zip(daft_listings.columns[:3], myhome_listings.columns[:3])):\n",
    "    daft_listings = daft_listings.withColumnRenamed(colName[0], updated_colNames[i])\n",
    "    myhome_listings = myhome_listings.withColumnRenamed(colName[1], updated_colNames[i])\n",
    "print(daft_listings.columns == myhome_listings.columns)"
   ]
  },
  {
   "cell_type": "code",
   "execution_count": 10,
   "id": "0c07ccaa",
   "metadata": {},
   "outputs": [],
   "source": [
    "df = daft_listings.union(myhome_listings)"
   ]
  },
  {
   "cell_type": "code",
   "execution_count": 11,
   "id": "d2d17c69",
   "metadata": {},
   "outputs": [
    {
     "name": "stderr",
     "output_type": "stream",
     "text": [
      "[Stage 6:==============================================>          (13 + 3) / 16]\r"
     ]
    },
    {
     "name": "stdout",
     "output_type": "stream",
     "text": [
      "+-------+------------------+------------------+--------------------+------------------+--------------------+-------------+-------+---------+\n",
      "|summary|              Beds|             Baths|          Floor_area|             Price|             Address|Property_type| County| Province|\n",
      "+-------+------------------+------------------+--------------------+------------------+--------------------+-------------+-------+---------+\n",
      "|  count|             21466|             21466|               21466|             21466|               21466|        21466|  21466|    21466|\n",
      "|   mean|2.9620795676884377|2.0190068014534615|   19887.59744098927|418111.23227429425|                null|         null|   null|     null|\n",
      "| stddev|1.5958998940542786|1.3804100982558538|  2013590.3616121854|487437.86956757697|                null|         null|   null|     null|\n",
      "|    min|               0.0|               0.0|                 0.0|           10000.0|  \"Oaks House\" Co...|    Apartment| Carlow|Connaught|\n",
      "|    max|              30.0|              25.0|2.6304075108251387E8|            1.25E7|Áit Eile, Coornag...|    Townhouse|Wicklow|   Ulster|\n",
      "+-------+------------------+------------------+--------------------+------------------+--------------------+-------------+-------+---------+\n",
      "\n"
     ]
    },
    {
     "name": "stderr",
     "output_type": "stream",
     "text": [
      "\r",
      "                                                                                \r"
     ]
    }
   ],
   "source": [
    "df.describe().show()"
   ]
  },
  {
   "cell_type": "code",
   "execution_count": 12,
   "id": "6d625c88",
   "metadata": {},
   "outputs": [
    {
     "name": "stderr",
     "output_type": "stream",
     "text": [
      "[Stage 11:=============================>                            (1 + 1) / 2]\r"
     ]
    },
    {
     "name": "stdout",
     "output_type": "stream",
     "text": [
      "+-------+------------------+------------------+--------------------+-----------------+--------------------+-------------+-------+---------+\n",
      "|summary|              Beds|             Baths|          Floor_area|            Price|             Address|Property_type| County| Province|\n",
      "+-------+------------------+------------------+--------------------+-----------------+--------------------+-------------+-------+---------+\n",
      "|  count|             20942|             20942|               20942|            20942|               20942|        20942|  20942|    20942|\n",
      "|   mean| 2.984624200171903|2.0329958934199217|  20300.974198104774|421413.6286887594|                null|         null|   null|     null|\n",
      "| stddev|1.5745494009337617|1.3684661052754463|  2038625.1492273116|489436.9648542695|                null|         null|   null|     null|\n",
      "|    min|               0.0|               0.0|                 0.0|          10000.0|  \"Oaks House\" Co...|    Apartment| Carlow|Connaught|\n",
      "|    max|              30.0|              25.0|2.6304075108251387E8|           1.25E7|Áit Eile, Coornag...|    Townhouse|Wicklow|   Ulster|\n",
      "+-------+------------------+------------------+--------------------+-----------------+--------------------+-------------+-------+---------+\n",
      "\n"
     ]
    },
    {
     "name": "stderr",
     "output_type": "stream",
     "text": [
      "\r",
      "                                                                                \r"
     ]
    }
   ],
   "source": [
    "df.drop_duplicates(subset=[\"Address\"]).describe().show()"
   ]
  },
  {
   "cell_type": "code",
   "execution_count": 13,
   "id": "29d2c71b",
   "metadata": {},
   "outputs": [
    {
     "name": "stderr",
     "output_type": "stream",
     "text": [
      "[Stage 17:>                                                         (0 + 1) / 1]\r"
     ]
    },
    {
     "name": "stdout",
     "output_type": "stream",
     "text": [
      "+-------------------+-----+\n",
      "|      Property_type|count|\n",
      "+-------------------+-----+\n",
      "|          Apartment| 2680|\n",
      "|          Townhouse|  215|\n",
      "|     End of Terrace|  696|\n",
      "|             Semi-D| 2892|\n",
      "|           Detached| 4072|\n",
      "|            Terrace| 1712|\n",
      "|           Bungalow|  988|\n",
      "|             Duplex|  271|\n",
      "|               Site| 2397|\n",
      "|             Dormer|    8|\n",
      "|               Farm|    2|\n",
      "|          Penthouse|    8|\n",
      "|                End|  336|\n",
      "|     Live-Work Unit|    2|\n",
      "|            Cottage|   50|\n",
      "|              House|  291|\n",
      "|     Detached House| 1829|\n",
      "|     Terraced House| 1058|\n",
      "|Semi-Detached House| 1922|\n",
      "|             Studio|    2|\n",
      "+-------------------+-----+\n",
      "only showing top 20 rows\n",
      "\n"
     ]
    },
    {
     "name": "stderr",
     "output_type": "stream",
     "text": [
      "\r",
      "                                                                                \r"
     ]
    }
   ],
   "source": [
    "df.groupby(\"Property_type\").count().show()"
   ]
  },
  {
   "cell_type": "code",
   "execution_count": 14,
   "id": "fb52fff8",
   "metadata": {},
   "outputs": [
    {
     "name": "stderr",
     "output_type": "stream",
     "text": [
      "                                                                                \r"
     ]
    }
   ],
   "source": [
    "distinct_beds = df.select(\"Beds\").distinct().collect()\n",
    "distinct_baths = df.select(\"Baths\").distinct().collect()\n",
    "distinct_floor_area = df.select(\"Floor_area\").distinct().collect()\n",
    "distinct_county = df.select(\"County\").distinct().collect()\n",
    "distinct_property_type = df.select(\"Property_type\").distinct().collect()"
   ]
  },
  {
   "cell_type": "code",
   "execution_count": 15,
   "id": "0e1af8ca",
   "metadata": {},
   "outputs": [],
   "source": [
    "rename_propert_types = {\n",
    "    \"End\":\"End of Terrace\",\n",
    "    \"Semi-D\":\"Semi-Detached\",\n",
    "    \"Semi-Detached House\":\"Semi-Detached\",\n",
    "    \"Detached House\":\"Detached\",\n",
    "    \"Terraced House\":\"Terrace\",\n",
    "    \"Studio\":\"Apartment\",\n",
    "    \"Penthouse\":\"Apartment\",\n",
    "    \"Studio\":\"Apartment\",\n",
    "    \"Period House\":\"House\",\n",
    "    \"Country House\":\"House\",\n",
    "    \n",
    "}"
   ]
  },
  {
   "cell_type": "code",
   "execution_count": 16,
   "id": "f72c5079",
   "metadata": {},
   "outputs": [],
   "source": [
    "for key, value in rename_propert_types.items():\n",
    "    df= df.replace(key, value)"
   ]
  },
  {
   "cell_type": "code",
   "execution_count": 17,
   "id": "1eb74c37",
   "metadata": {},
   "outputs": [
    {
     "name": "stdout",
     "output_type": "stream",
     "text": [
      "+----+-----+----------+---------+--------------------+--------------+---------+---------+\n",
      "|Beds|Baths|Floor_area|    Price|             Address| Property_type|   County| Province|\n",
      "+----+-----+----------+---------+--------------------+--------------+---------+---------+\n",
      "| 2.0|  1.0|      52.0| 295000.0|8 Parknasilla, Ve...|     Apartment|  Wicklow| Leinster|\n",
      "| 3.0|  3.0|      93.0| 230000.0|7 Meadow Avenue, ...| Semi-Detached|     Cork|  Munster|\n",
      "| 4.0|  3.0|      86.0| 265000.0|5 Friar Street, C...|       Terrace|     Cork|  Munster|\n",
      "| 3.0|  1.0|      82.0| 375000.0|12 Barrack Street...|End of Terrace|     Cork|  Munster|\n",
      "| 5.0|  4.0|     186.0| 405000.0|3 The Garden, Whi...| Semi-Detached|    Meath| Leinster|\n",
      "| 6.0|  7.0|     763.0|3000000.0|7 Henrietta Stree...|       Terrace| Dublin 1| Leinster|\n",
      "| 5.0|  5.0|     328.0| 795000.0|Zion House, Carnm...|      Detached|   Galway|Connaught|\n",
      "| 5.0|  4.0|     232.0| 625000.0|3 The Fairways, M...|      Detached|     Cork|  Munster|\n",
      "| 3.0|  2.0|     171.0| 230000.0|Derryart, Dunfana...|      Detached|  Donegal|   Ulster|\n",
      "| 4.0|  3.0|     125.0| 295000.0|168 Palace Fields...| Semi-Detached|   Galway|Connaught|\n",
      "| 5.0|  5.0|     781.0|    1.0E7|Drumleck House, C...|      Detached|Dublin 13| Leinster|\n",
      "| 4.0|  3.0|     200.0| 875000.0|13 Inverness Road...|       Terrace| Dublin 3| Leinster|\n",
      "| 4.0|  2.0|     152.0| 895000.0|3 Ballymun Road, ...|      Detached| Dublin 9| Leinster|\n",
      "| 1.0|  1.0|      48.0| 270000.0|Apartment 133, Bl...|     Apartment| Dublin 8| Leinster|\n",
      "| 4.0|  3.0|     181.0| 495000.0|13 Robin Vale, He...|      Detached|     Cork|  Munster|\n",
      "| 2.0|  2.0|      60.0| 245000.0|4 Newlands Manor ...|     Apartment|Dublin 22| Leinster|\n",
      "| 7.0|  8.0|     268.0|1200000.0|Waterside House, ...|      Detached|     Cork|  Munster|\n",
      "| 3.0|  3.0|     116.0| 310000.0|23 Kinvara Park, ...| Semi-Detached|     Cork|  Munster|\n",
      "| 5.0|  3.0|     282.0| 550000.0|23 Tower Hill, Ki...|      Detached|     Cork|  Munster|\n",
      "| 3.0|  1.0|      59.0| 195000.0|54 Prosperity Squ...|       Terrace|     Cork|  Munster|\n",
      "+----+-----+----------+---------+--------------------+--------------+---------+---------+\n",
      "only showing top 20 rows\n",
      "\n"
     ]
    }
   ],
   "source": [
    "df.show()"
   ]
  },
  {
   "cell_type": "code",
   "execution_count": 18,
   "id": "b2e779d0",
   "metadata": {},
   "outputs": [
    {
     "name": "stderr",
     "output_type": "stream",
     "text": [
      "[Stage 34:=================================================>      (14 + 2) / 16]\r"
     ]
    },
    {
     "name": "stdout",
     "output_type": "stream",
     "text": [
      "+--------------+-----+\n",
      "| Property_type|count|\n",
      "+--------------+-----+\n",
      "|     Apartment| 2690|\n",
      "|     Townhouse|  215|\n",
      "| Semi-Detached| 4814|\n",
      "|End of Terrace| 1032|\n",
      "|      Detached| 5901|\n",
      "|       Terrace| 2770|\n",
      "|      Bungalow|  988|\n",
      "|        Duplex|  271|\n",
      "|          Site| 2397|\n",
      "|        Dormer|    8|\n",
      "|          Farm|    2|\n",
      "|Live-Work Unit|    2|\n",
      "|       Cottage|   50|\n",
      "|         House|  318|\n",
      "|    Investment|    7|\n",
      "|          Mews|    1|\n",
      "+--------------+-----+\n",
      "\n"
     ]
    },
    {
     "name": "stderr",
     "output_type": "stream",
     "text": [
      "\r",
      "[Stage 36:>                                                         (0 + 1) / 1]\r",
      "\r",
      "                                                                                \r"
     ]
    }
   ],
   "source": [
    "df.groupby(\"Property_type\").count().show()"
   ]
  },
  {
   "cell_type": "code",
   "execution_count": 19,
   "id": "613dcc91",
   "metadata": {},
   "outputs": [],
   "source": [
    "df= df.withColumn(\"Property_Category\", df.Property_type)"
   ]
  },
  {
   "cell_type": "code",
   "execution_count": 20,
   "id": "592fce0e",
   "metadata": {},
   "outputs": [],
   "source": [
    "rename_category_types = {\n",
    "    \"End of Terrace\":\"House\",\n",
    "    \"Semi-Detached\":\"House\",\n",
    "    \"Detached\":\"House\",\n",
    "    \"Terrace\":\"House\",\n",
    "    \"Studio\":\"Apartment\",\n",
    "    \"Penthouse\":\"Apartment\",\n",
    "    \"Studio\":\"Apartment\",\n",
    "    \"Period House\":\"House\",\n",
    "    \"Country House\":\"House\",\n",
    "    \"Cottage\":\"House\",\n",
    "    \"Mews\":\"House\",\n",
    "    \"Farm\":\"Site\",\n",
    "    \"Townhouse\":\"House\",\n",
    "    \"Bungalow\":\"House\",\n",
    "    \"Duplex\":\"Apartment\",\n",
    "    \"Dormer\":\"Null\",\n",
    "    \"Live-Work Unit\":\"Null\",\n",
    "    \"Investment\":\"Null\",\n",
    "}"
   ]
  },
  {
   "cell_type": "code",
   "execution_count": 21,
   "id": "cafcdd66",
   "metadata": {},
   "outputs": [],
   "source": [
    "for key, value in rename_category_types.items():\n",
    "    df = df.replace(key, value, subset=\"Property_Category\")"
   ]
  },
  {
   "cell_type": "code",
   "execution_count": 25,
   "id": "fb6d16a9",
   "metadata": {},
   "outputs": [],
   "source": [
    "df = df.drop_duplicates()"
   ]
  },
  {
   "cell_type": "code",
   "execution_count": 27,
   "id": "93d59fcc",
   "metadata": {},
   "outputs": [
    {
     "name": "stderr",
     "output_type": "stream",
     "text": [
      "                                                                                \r"
     ]
    }
   ],
   "source": [
    "pandasDf = df.toPandas()"
   ]
  },
  {
   "cell_type": "code",
   "execution_count": 29,
   "id": "4fc6e99b",
   "metadata": {},
   "outputs": [],
   "source": [
    "pandasDf.to_csv(\"data/cleaned/all_listings.csv\")"
   ]
  }
 ],
 "metadata": {
  "kernelspec": {
   "display_name": "Python 3 (ipykernel)",
   "language": "python",
   "name": "python3"
  },
  "language_info": {
   "codemirror_mode": {
    "name": "ipython",
    "version": 3
   },
   "file_extension": ".py",
   "mimetype": "text/x-python",
   "name": "python",
   "nbconvert_exporter": "python",
   "pygments_lexer": "ipython3",
   "version": "3.8.10"
  }
 },
 "nbformat": 4,
 "nbformat_minor": 5
}
